{
 "cells": [
  {
   "cell_type": "markdown",
   "metadata": {},
   "source": [
    "###  merge, concat\n",
    "* `merge` and `join`: to join 2 tables: `df1.merge(df2, how=, left_on=, right_on=)` \n",
    "* use `merge` to join instead of  `join`: \n",
    "  * because merge is close to joins in SQL. Join is bit complicated\n",
    "* concat - smiilar to \"union\" operator: `pd.concat([df1, df2])`"
   ]
  },
  {
   "cell_type": "code",
   "execution_count": null,
   "metadata": {},
   "outputs": [],
   "source": [
    "import pandas as pd\n",
    "\n",
    "emp_df = pd.read_csv('data/emp.csv')\n",
    "dept_df = pd.read_csv('data/dept.csv')"
   ]
  },
  {
   "cell_type": "code",
   "execution_count": null,
   "metadata": {},
   "outputs": [],
   "source": [
    "emp_df"
   ]
  },
  {
   "cell_type": "code",
   "execution_count": null,
   "metadata": {},
   "outputs": [],
   "source": [
    "dept_df"
   ]
  },
  {
   "cell_type": "markdown",
   "metadata": {},
   "source": [
    "### merge"
   ]
  },
  {
   "cell_type": "code",
   "execution_count": null,
   "metadata": {},
   "outputs": [],
   "source": [
    "# ex 1: inner \n",
    "emp_df.merge(dept_df, how='inner', left_on='dept_id', right_on='department_id')\n",
    "\n",
    "# Note: if you have same column name : emp_df.merge(dept_df, how='inner', on='dept_id')\n",
    "# if you hve same column name(s) : emp_df.merge(dept_df, how='inner', on=['dept_id', 'emp_id'])"
   ]
  },
  {
   "cell_type": "code",
   "execution_count": null,
   "metadata": {},
   "outputs": [],
   "source": [
    "# ex 2: left \n",
    "emp_df.merge(dept_df, how='left', left_on='dept_id', right_on='department_id')"
   ]
  },
  {
   "cell_type": "code",
   "execution_count": null,
   "metadata": {},
   "outputs": [],
   "source": [
    "# ex 3: right \n",
    "emp_df.merge(dept_df, how='right', left_on='dept_id', right_on='department_id')"
   ]
  },
  {
   "cell_type": "code",
   "execution_count": null,
   "metadata": {},
   "outputs": [],
   "source": [
    "# ex 4: outer (full join in SQL)\n",
    "emp_df.merge(dept_df, how='outer', left_on='dept_id', right_on='department_id')"
   ]
  },
  {
   "cell_type": "code",
   "execution_count": null,
   "metadata": {},
   "outputs": [],
   "source": [
    "# ex 5: cross\n",
    "emp_df.merge(dept_df, how='cross')"
   ]
  },
  {
   "cell_type": "markdown",
   "metadata": {},
   "source": [
    "### concat"
   ]
  },
  {
   "cell_type": "code",
   "execution_count": null,
   "metadata": {},
   "outputs": [],
   "source": [
    "pd.concat([emp_df, dept_df]) # default axis 0 ie rows: exactly acts like 'UNION'"
   ]
  },
  {
   "cell_type": "code",
   "execution_count": null,
   "metadata": {},
   "outputs": [],
   "source": [
    "pd.concat([emp_df, dept_df], axis=1) # axis=1 ie cols: acts like joins"
   ]
  }
 ],
 "metadata": {
  "kernelspec": {
   "display_name": "Python 3",
   "language": "python",
   "name": "python3"
  },
  "language_info": {
   "codemirror_mode": {
    "name": "ipython",
    "version": 3
   },
   "file_extension": ".py",
   "mimetype": "text/x-python",
   "name": "python",
   "nbconvert_exporter": "python",
   "pygments_lexer": "ipython3",
   "version": "3.11.2"
  },
  "orig_nbformat": 4
 },
 "nbformat": 4,
 "nbformat_minor": 2
}
